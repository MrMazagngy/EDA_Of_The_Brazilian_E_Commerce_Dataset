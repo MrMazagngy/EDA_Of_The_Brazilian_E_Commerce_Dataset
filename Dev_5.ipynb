{
  "nbformat": 4,
  "nbformat_minor": 0,
  "metadata": {
    "colab": {
      "name": "Dev_5.ipynb",
      "provenance": [],
      "collapsed_sections": [],
      "include_colab_link": true
    },
    "kernelspec": {
      "name": "python3",
      "display_name": "Python 3"
    },
    "language_info": {
      "name": "python"
    }
  },
  "cells": [
    {
      "cell_type": "markdown",
      "metadata": {
        "id": "view-in-github",
        "colab_type": "text"
      },
      "source": [
        "<a href=\"https://colab.research.google.com/github/MrMazagngy/EDA_Of_The_Brazilian_E_Commerce_Dataset/blob/main/Dev_5.ipynb\" target=\"_parent\"><img src=\"https://colab.research.google.com/assets/colab-badge.svg\" alt=\"Open In Colab\"/></a>"
      ]
    },
    {
      "cell_type": "code",
      "metadata": {
        "colab": {
          "base_uri": "https://localhost:8080/"
        },
        "id": "JBcQV_AVFucs",
        "outputId": "802c070b-0be5-4902-f532-b89a647f2a99"
      },
      "source": [
        "from google.colab import drive\n",
        "drive.mount('/content/drive')"
      ],
      "execution_count": null,
      "outputs": [
        {
          "output_type": "stream",
          "name": "stdout",
          "text": [
            "Drive already mounted at /content/drive; to attempt to forcibly remount, call drive.mount(\"/content/drive\", force_remount=True).\n"
          ]
        }
      ]
    },
    {
      "cell_type": "code",
      "metadata": {
        "id": "LunxJFnPGwK_"
      },
      "source": [
        "import pandas as pd\n",
        "import numpy as np\n",
        "import matplotlib.pyplot as plt\n",
        "import seaborn as sns\n",
        "%matplotlib inline\n",
        "import missingno\n",
        "\n",
        "from sklearn.linear_model import LinearRegression\n",
        "from sklearn.discriminant_analysis import LinearDiscriminantAnalysis\n",
        "from sklearn.model_selection import cross_val_score\n",
        "from sklearn.model_selection import KFold\n",
        "from sklearn.metrics import confusion_matrix\n",
        "from sklearn.model_selection import train_test_split\n",
        "from sklearn.preprocessing import StandardScaler\n",
        "from sklearn.linear_model import LogisticRegression\n",
        "from sklearn.tree import DecisionTreeClassifier\n",
        "from sklearn import tree\n",
        "from sklearn.metrics import roc_curve, auc\n",
        "\n"
      ],
      "execution_count": null,
      "outputs": []
    },
    {
      "cell_type": "code",
      "metadata": {
        "id": "nqJLOZgoG-yc"
      },
      "source": [
        "data=pd.read_csv(\"/content/drive/MyDrive/new/train.csv\")"
      ],
      "execution_count": null,
      "outputs": []
    },
    {
      "cell_type": "markdown",
      "metadata": {
        "id": "JunXDVHGHRzw"
      },
      "source": [
        "**1. Data Cleaning**\n",
        "i. Get rid of the non-numeric variables\n",
        "ii. Plot the missingo plot to understand which columns contain NaN\n",
        "iii. Initialize Sex variable values into 1 and 0 (m,f)\n",
        "iv. Fill in the nan values in Age with the mean\n",
        "v. Assign Embarked variable's values to 0, 1, 2 respectively (S, C, Q)"
      ]
    },
    {
      "cell_type": "code",
      "metadata": {
        "id": "k6eelWKGJoec"
      },
      "source": [
        "dropped_columns= [\"PassengerId\", 'Name', 'Ticket', 'Cabin']\n",
        "train_set= data.drop(dropped_columns, axis=1)\n",
        "test_with_pas=test[[\"PassengerId\"]]\n",
        "\n",
        "test_drop=test.drop(dropped_columns, axis=1)\n"
      ],
      "execution_count": null,
      "outputs": []
    },
    {
      "cell_type": "code",
      "metadata": {
        "colab": {
          "base_uri": "https://localhost:8080/",
          "height": 419
        },
        "id": "X-CdsBWhDcs1",
        "outputId": "442cceeb-e1d9-4679-8640-229d616131e3"
      },
      "source": [
        "test"
      ],
      "execution_count": null,
      "outputs": [
        {
          "output_type": "execute_result",
          "data": {
            "text/html": [
              "<div>\n",
              "<style scoped>\n",
              "    .dataframe tbody tr th:only-of-type {\n",
              "        vertical-align: middle;\n",
              "    }\n",
              "\n",
              "    .dataframe tbody tr th {\n",
              "        vertical-align: top;\n",
              "    }\n",
              "\n",
              "    .dataframe thead th {\n",
              "        text-align: right;\n",
              "    }\n",
              "</style>\n",
              "<table border=\"1\" class=\"dataframe\">\n",
              "  <thead>\n",
              "    <tr style=\"text-align: right;\">\n",
              "      <th></th>\n",
              "      <th>Pclass</th>\n",
              "      <th>Sex</th>\n",
              "      <th>Age</th>\n",
              "      <th>SibSp</th>\n",
              "      <th>Parch</th>\n",
              "      <th>Fare</th>\n",
              "      <th>Embarked</th>\n",
              "    </tr>\n",
              "  </thead>\n",
              "  <tbody>\n",
              "    <tr>\n",
              "      <th>0</th>\n",
              "      <td>3</td>\n",
              "      <td>male</td>\n",
              "      <td>34.5</td>\n",
              "      <td>0</td>\n",
              "      <td>0</td>\n",
              "      <td>7.8292</td>\n",
              "      <td>Q</td>\n",
              "    </tr>\n",
              "    <tr>\n",
              "      <th>1</th>\n",
              "      <td>3</td>\n",
              "      <td>female</td>\n",
              "      <td>47.0</td>\n",
              "      <td>1</td>\n",
              "      <td>0</td>\n",
              "      <td>7.0000</td>\n",
              "      <td>S</td>\n",
              "    </tr>\n",
              "    <tr>\n",
              "      <th>2</th>\n",
              "      <td>2</td>\n",
              "      <td>male</td>\n",
              "      <td>62.0</td>\n",
              "      <td>0</td>\n",
              "      <td>0</td>\n",
              "      <td>9.6875</td>\n",
              "      <td>Q</td>\n",
              "    </tr>\n",
              "    <tr>\n",
              "      <th>3</th>\n",
              "      <td>3</td>\n",
              "      <td>male</td>\n",
              "      <td>27.0</td>\n",
              "      <td>0</td>\n",
              "      <td>0</td>\n",
              "      <td>8.6625</td>\n",
              "      <td>S</td>\n",
              "    </tr>\n",
              "    <tr>\n",
              "      <th>4</th>\n",
              "      <td>3</td>\n",
              "      <td>female</td>\n",
              "      <td>22.0</td>\n",
              "      <td>1</td>\n",
              "      <td>1</td>\n",
              "      <td>12.2875</td>\n",
              "      <td>S</td>\n",
              "    </tr>\n",
              "    <tr>\n",
              "      <th>...</th>\n",
              "      <td>...</td>\n",
              "      <td>...</td>\n",
              "      <td>...</td>\n",
              "      <td>...</td>\n",
              "      <td>...</td>\n",
              "      <td>...</td>\n",
              "      <td>...</td>\n",
              "    </tr>\n",
              "    <tr>\n",
              "      <th>413</th>\n",
              "      <td>3</td>\n",
              "      <td>male</td>\n",
              "      <td>NaN</td>\n",
              "      <td>0</td>\n",
              "      <td>0</td>\n",
              "      <td>8.0500</td>\n",
              "      <td>S</td>\n",
              "    </tr>\n",
              "    <tr>\n",
              "      <th>414</th>\n",
              "      <td>1</td>\n",
              "      <td>female</td>\n",
              "      <td>39.0</td>\n",
              "      <td>0</td>\n",
              "      <td>0</td>\n",
              "      <td>108.9000</td>\n",
              "      <td>C</td>\n",
              "    </tr>\n",
              "    <tr>\n",
              "      <th>415</th>\n",
              "      <td>3</td>\n",
              "      <td>male</td>\n",
              "      <td>38.5</td>\n",
              "      <td>0</td>\n",
              "      <td>0</td>\n",
              "      <td>7.2500</td>\n",
              "      <td>S</td>\n",
              "    </tr>\n",
              "    <tr>\n",
              "      <th>416</th>\n",
              "      <td>3</td>\n",
              "      <td>male</td>\n",
              "      <td>NaN</td>\n",
              "      <td>0</td>\n",
              "      <td>0</td>\n",
              "      <td>8.0500</td>\n",
              "      <td>S</td>\n",
              "    </tr>\n",
              "    <tr>\n",
              "      <th>417</th>\n",
              "      <td>3</td>\n",
              "      <td>male</td>\n",
              "      <td>NaN</td>\n",
              "      <td>1</td>\n",
              "      <td>1</td>\n",
              "      <td>22.3583</td>\n",
              "      <td>C</td>\n",
              "    </tr>\n",
              "  </tbody>\n",
              "</table>\n",
              "<p>418 rows × 7 columns</p>\n",
              "</div>"
            ],
            "text/plain": [
              "     Pclass     Sex   Age  SibSp  Parch      Fare Embarked\n",
              "0         3    male  34.5      0      0    7.8292        Q\n",
              "1         3  female  47.0      1      0    7.0000        S\n",
              "2         2    male  62.0      0      0    9.6875        Q\n",
              "3         3    male  27.0      0      0    8.6625        S\n",
              "4         3  female  22.0      1      1   12.2875        S\n",
              "..      ...     ...   ...    ...    ...       ...      ...\n",
              "413       3    male   NaN      0      0    8.0500        S\n",
              "414       1  female  39.0      0      0  108.9000        C\n",
              "415       3    male  38.5      0      0    7.2500        S\n",
              "416       3    male   NaN      0      0    8.0500        S\n",
              "417       3    male   NaN      1      1   22.3583        C\n",
              "\n",
              "[418 rows x 7 columns]"
            ]
          },
          "metadata": {},
          "execution_count": 172
        }
      ]
    },
    {
      "cell_type": "code",
      "metadata": {
        "colab": {
          "base_uri": "https://localhost:8080/",
          "height": 417
        },
        "id": "2M68gO7LHJLp",
        "outputId": "c217d8d0-b709-4425-bf51-5dd78c40a393"
      },
      "source": [
        "p= missingno.bar(train_set, sort=\"ascending\", figsize=(7,5))"
      ],
      "execution_count": null,
      "outputs": [
        {
          "output_type": "display_data",
          "data": {
            "image/png": "[encoded data removed]",
            "text/plain": [
              "<Figure size 504x360 with 3 Axes>"
            ]
          },
          "metadata": {
            "needs_background": "light"
          }
        }
      ]
    },
    {
      "cell_type": "code",
      "metadata": {
        "id": "QxpNem_vIQaX",
        "colab": {
          "base_uri": "https://localhost:8080/"
        },
        "outputId": "12edfb26-7cc0-4845-aff4-5455f9309561"
      },
      "source": [
        "train_set['Sex'][train_set['Sex']== 'male']=0\n",
        "train_set['Sex'][train_set['Sex']== 'female']=1\n",
        "train_set['Embarked']= train_set['Embarked'].map({'S':0, 'C':1, 'Q':2})\n",
        "train_set['Age'].fillna(train_set['Age'].mean(),inplace=True)\n",
        "train_set.dropna(inplace=True, axis=0)\n",
        "\n",
        "test_drop['Sex'][test_drop['Sex']== 'male']=0\n",
        "test_drop['Sex'][test_drop['Sex']== 'female']=1\n",
        "test_drop['Embarked']= test_drop['Embarked'].map({'S':0, 'C':1, 'Q':2})\n",
        "test_drop['Age'].fillna(test_drop['Age'].mean(),inplace=True)\n",
        "test_drop.dropna(inplace=True, axis=0)\n"
      ],
      "execution_count": null,
      "outputs": [
        {
          "output_type": "stream",
          "name": "stderr",
          "text": [
            "/usr/local/lib/python3.7/dist-packages/ipykernel_launcher.py:1: SettingWithCopyWarning: \n",
            "A value is trying to be set on a copy of a slice from a DataFrame\n",
            "\n",
            "See the caveats in the documentation: https://pandas.pydata.org/pandas-docs/stable/user_guide/indexing.html#returning-a-view-versus-a-copy\n",
            "  \"\"\"Entry point for launching an IPython kernel.\n",
            "/usr/local/lib/python3.7/dist-packages/ipykernel_launcher.py:2: SettingWithCopyWarning: \n",
            "A value is trying to be set on a copy of a slice from a DataFrame\n",
            "\n",
            "See the caveats in the documentation: https://pandas.pydata.org/pandas-docs/stable/user_guide/indexing.html#returning-a-view-versus-a-copy\n",
            "  \n",
            "/usr/local/lib/python3.7/dist-packages/ipykernel_launcher.py:7: SettingWithCopyWarning: \n",
            "A value is trying to be set on a copy of a slice from a DataFrame\n",
            "\n",
            "See the caveats in the documentation: https://pandas.pydata.org/pandas-docs/stable/user_guide/indexing.html#returning-a-view-versus-a-copy\n",
            "  import sys\n",
            "/usr/local/lib/python3.7/dist-packages/ipykernel_launcher.py:8: SettingWithCopyWarning: \n",
            "A value is trying to be set on a copy of a slice from a DataFrame\n",
            "\n",
            "See the caveats in the documentation: https://pandas.pydata.org/pandas-docs/stable/user_guide/indexing.html#returning-a-view-versus-a-copy\n",
            "  \n"
          ]
        }
      ]
    },
    {
      "cell_type": "code",
      "metadata": {
        "id": "HLqK5ZCpM9nl",
        "colab": {
          "base_uri": "https://localhost:8080/",
          "height": 419
        },
        "outputId": "b910b6a2-9301-45fc-c57d-9c249454e990"
      },
      "source": [
        "train_set"
      ],
      "execution_count": null,
      "outputs": [
        {
          "output_type": "execute_result",
          "data": {
            "text/html": [
              "<div>\n",
              "<style scoped>\n",
              "    .dataframe tbody tr th:only-of-type {\n",
              "        vertical-align: middle;\n",
              "    }\n",
              "\n",
              "    .dataframe tbody tr th {\n",
              "        vertical-align: top;\n",
              "    }\n",
              "\n",
              "    .dataframe thead th {\n",
              "        text-align: right;\n",
              "    }\n",
              "</style>\n",
              "<table border=\"1\" class=\"dataframe\">\n",
              "  <thead>\n",
              "    <tr style=\"text-align: right;\">\n",
              "      <th></th>\n",
              "      <th>Survived</th>\n",
              "      <th>Pclass</th>\n",
              "      <th>Sex</th>\n",
              "      <th>Age</th>\n",
              "      <th>SibSp</th>\n",
              "      <th>Parch</th>\n",
              "      <th>Fare</th>\n",
              "      <th>Embarked</th>\n",
              "    </tr>\n",
              "  </thead>\n",
              "  <tbody>\n",
              "    <tr>\n",
              "      <th>0</th>\n",
              "      <td>0</td>\n",
              "      <td>3</td>\n",
              "      <td>0</td>\n",
              "      <td>22.000000</td>\n",
              "      <td>1</td>\n",
              "      <td>0</td>\n",
              "      <td>7.2500</td>\n",
              "      <td>0.0</td>\n",
              "    </tr>\n",
              "    <tr>\n",
              "      <th>1</th>\n",
              "      <td>1</td>\n",
              "      <td>1</td>\n",
              "      <td>1</td>\n",
              "      <td>38.000000</td>\n",
              "      <td>1</td>\n",
              "      <td>0</td>\n",
              "      <td>71.2833</td>\n",
              "      <td>1.0</td>\n",
              "    </tr>\n",
              "    <tr>\n",
              "      <th>2</th>\n",
              "      <td>1</td>\n",
              "      <td>3</td>\n",
              "      <td>1</td>\n",
              "      <td>26.000000</td>\n",
              "      <td>0</td>\n",
              "      <td>0</td>\n",
              "      <td>7.9250</td>\n",
              "      <td>0.0</td>\n",
              "    </tr>\n",
              "    <tr>\n",
              "      <th>3</th>\n",
              "      <td>1</td>\n",
              "      <td>1</td>\n",
              "      <td>1</td>\n",
              "      <td>35.000000</td>\n",
              "      <td>1</td>\n",
              "      <td>0</td>\n",
              "      <td>53.1000</td>\n",
              "      <td>0.0</td>\n",
              "    </tr>\n",
              "    <tr>\n",
              "      <th>4</th>\n",
              "      <td>0</td>\n",
              "      <td>3</td>\n",
              "      <td>0</td>\n",
              "      <td>35.000000</td>\n",
              "      <td>0</td>\n",
              "      <td>0</td>\n",
              "      <td>8.0500</td>\n",
              "      <td>0.0</td>\n",
              "    </tr>\n",
              "    <tr>\n",
              "      <th>...</th>\n",
              "      <td>...</td>\n",
              "      <td>...</td>\n",
              "      <td>...</td>\n",
              "      <td>...</td>\n",
              "      <td>...</td>\n",
              "      <td>...</td>\n",
              "      <td>...</td>\n",
              "      <td>...</td>\n",
              "    </tr>\n",
              "    <tr>\n",
              "      <th>886</th>\n",
              "      <td>0</td>\n",
              "      <td>2</td>\n",
              "      <td>0</td>\n",
              "      <td>27.000000</td>\n",
              "      <td>0</td>\n",
              "      <td>0</td>\n",
              "      <td>13.0000</td>\n",
              "      <td>0.0</td>\n",
              "    </tr>\n",
              "    <tr>\n",
              "      <th>887</th>\n",
              "      <td>1</td>\n",
              "      <td>1</td>\n",
              "      <td>1</td>\n",
              "      <td>19.000000</td>\n",
              "      <td>0</td>\n",
              "      <td>0</td>\n",
              "      <td>30.0000</td>\n",
              "      <td>0.0</td>\n",
              "    </tr>\n",
              "    <tr>\n",
              "      <th>888</th>\n",
              "      <td>0</td>\n",
              "      <td>3</td>\n",
              "      <td>1</td>\n",
              "      <td>29.699118</td>\n",
              "      <td>1</td>\n",
              "      <td>2</td>\n",
              "      <td>23.4500</td>\n",
              "      <td>0.0</td>\n",
              "    </tr>\n",
              "    <tr>\n",
              "      <th>889</th>\n",
              "      <td>1</td>\n",
              "      <td>1</td>\n",
              "      <td>0</td>\n",
              "      <td>26.000000</td>\n",
              "      <td>0</td>\n",
              "      <td>0</td>\n",
              "      <td>30.0000</td>\n",
              "      <td>1.0</td>\n",
              "    </tr>\n",
              "    <tr>\n",
              "      <th>890</th>\n",
              "      <td>0</td>\n",
              "      <td>3</td>\n",
              "      <td>0</td>\n",
              "      <td>32.000000</td>\n",
              "      <td>0</td>\n",
              "      <td>0</td>\n",
              "      <td>7.7500</td>\n",
              "      <td>2.0</td>\n",
              "    </tr>\n",
              "  </tbody>\n",
              "</table>\n",
              "<p>889 rows × 8 columns</p>\n",
              "</div>"
            ],
            "text/plain": [
              "     Survived  Pclass Sex        Age  SibSp  Parch     Fare  Embarked\n",
              "0           0       3   0  22.000000      1      0   7.2500       0.0\n",
              "1           1       1   1  38.000000      1      0  71.2833       1.0\n",
              "2           1       3   1  26.000000      0      0   7.9250       0.0\n",
              "3           1       1   1  35.000000      1      0  53.1000       0.0\n",
              "4           0       3   0  35.000000      0      0   8.0500       0.0\n",
              "..        ...     ...  ..        ...    ...    ...      ...       ...\n",
              "886         0       2   0  27.000000      0      0  13.0000       0.0\n",
              "887         1       1   1  19.000000      0      0  30.0000       0.0\n",
              "888         0       3   1  29.699118      1      2  23.4500       0.0\n",
              "889         1       1   0  26.000000      0      0  30.0000       1.0\n",
              "890         0       3   0  32.000000      0      0   7.7500       2.0\n",
              "\n",
              "[889 rows x 8 columns]"
            ]
          },
          "metadata": {},
          "execution_count": 39
        }
      ]
    },
    {
      "cell_type": "markdown",
      "metadata": {
        "id": "MAkktzmDL474"
      },
      "source": [
        "**2. Splitting data into train and eval sets**"
      ]
    },
    {
      "cell_type": "code",
      "metadata": {
        "id": "BB6imcU8LwBu"
      },
      "source": [
        "train_data, eval_data= train_test_split(train_set, test_size=0.25, random_state=9)"
      ],
      "execution_count": null,
      "outputs": []
    },
    {
      "cell_type": "code",
      "metadata": {
        "colab": {
          "base_uri": "https://localhost:8080/"
        },
        "id": "LO-tfat_T2CM",
        "outputId": "d16cb465-3ba6-4118-e5b9-436d118ed0a5"
      },
      "source": [
        "train_set.shape"
      ],
      "execution_count": null,
      "outputs": [
        {
          "output_type": "execute_result",
          "data": {
            "text/plain": [
              "(889, 8)"
            ]
          },
          "metadata": {},
          "execution_count": 41
        }
      ]
    },
    {
      "cell_type": "code",
      "metadata": {
        "id": "q559LbMKTrYB",
        "colab": {
          "base_uri": "https://localhost:8080/"
        },
        "outputId": "68053845-d4b0-40fc-aaf0-ae44be798ea5"
      },
      "source": [
        "train_data.shape"
      ],
      "execution_count": null,
      "outputs": [
        {
          "output_type": "execute_result",
          "data": {
            "text/plain": [
              "(666, 8)"
            ]
          },
          "metadata": {},
          "execution_count": 42
        }
      ]
    },
    {
      "cell_type": "code",
      "metadata": {
        "colab": {
          "base_uri": "https://localhost:8080/",
          "height": 111
        },
        "id": "r5AzQkh4M2KU",
        "outputId": "76c65d9b-6fc0-493e-e98c-f5b6c2ac6180"
      },
      "source": [
        "train_data.head(2)"
      ],
      "execution_count": null,
      "outputs": [
        {
          "output_type": "execute_result",
          "data": {
            "text/html": [
              "<div>\n",
              "<style scoped>\n",
              "    .dataframe tbody tr th:only-of-type {\n",
              "        vertical-align: middle;\n",
              "    }\n",
              "\n",
              "    .dataframe tbody tr th {\n",
              "        vertical-align: top;\n",
              "    }\n",
              "\n",
              "    .dataframe thead th {\n",
              "        text-align: right;\n",
              "    }\n",
              "</style>\n",
              "<table border=\"1\" class=\"dataframe\">\n",
              "  <thead>\n",
              "    <tr style=\"text-align: right;\">\n",
              "      <th></th>\n",
              "      <th>Survived</th>\n",
              "      <th>Pclass</th>\n",
              "      <th>Sex</th>\n",
              "      <th>Age</th>\n",
              "      <th>SibSp</th>\n",
              "      <th>Parch</th>\n",
              "      <th>Fare</th>\n",
              "      <th>Embarked</th>\n",
              "    </tr>\n",
              "  </thead>\n",
              "  <tbody>\n",
              "    <tr>\n",
              "      <th>751</th>\n",
              "      <td>1</td>\n",
              "      <td>3</td>\n",
              "      <td>0</td>\n",
              "      <td>6.0</td>\n",
              "      <td>0</td>\n",
              "      <td>1</td>\n",
              "      <td>12.475</td>\n",
              "      <td>0.0</td>\n",
              "    </tr>\n",
              "    <tr>\n",
              "      <th>845</th>\n",
              "      <td>0</td>\n",
              "      <td>3</td>\n",
              "      <td>0</td>\n",
              "      <td>42.0</td>\n",
              "      <td>0</td>\n",
              "      <td>0</td>\n",
              "      <td>7.550</td>\n",
              "      <td>0.0</td>\n",
              "    </tr>\n",
              "  </tbody>\n",
              "</table>\n",
              "</div>"
            ],
            "text/plain": [
              "     Survived  Pclass Sex   Age  SibSp  Parch    Fare  Embarked\n",
              "751         1       3   0   6.0      0      1  12.475       0.0\n",
              "845         0       3   0  42.0      0      0   7.550       0.0"
            ]
          },
          "metadata": {},
          "execution_count": 43
        }
      ]
    },
    {
      "cell_type": "code",
      "metadata": {
        "id": "CrY_G9V2Oddt"
      },
      "source": [
        ""
      ],
      "execution_count": null,
      "outputs": []
    },
    {
      "cell_type": "markdown",
      "metadata": {
        "id": "VH08YOSxOgIX"
      },
      "source": [
        "**`3. Data Normalization`**\n",
        "\n",
        "---\n",
        "\n"
      ]
    },
    {
      "cell_type": "code",
      "metadata": {
        "id": "-jceCHNsOfuH"
      },
      "source": [
        "X_train= pd.DataFrame(data=train_data, columns=train_data.columns[1:])\n",
        "Y_train= pd.DataFrame(data=train_data, columns=[train_data.columns[0]])\n",
        "\n",
        "X_eval= pd.DataFrame(data=eval_data, columns=eval_data.columns[1:])\n",
        "Y_eval= pd.DataFrame(data=eval_data, columns=[eval_data.columns[0]])\n"
      ],
      "execution_count": null,
      "outputs": []
    },
    {
      "cell_type": "code",
      "metadata": {
        "id": "1RLCDHVQR31j"
      },
      "source": [
        "#Standardization\n",
        "\n",
        "scaler= StandardScaler()\n",
        "scaler= scaler.fit(X_train)\n",
        "\n",
        "X_train_s=scaler.transform(X_train)\n",
        "X_eval_s= scaler.transform(X_eval)\n",
        "\n",
        "Y_train_s= np.array(Y_train).flatten()\n",
        "Y_eval_s= np.array(Y_eval).flatten()\n"
      ],
      "execution_count": null,
      "outputs": []
    },
    {
      "cell_type": "markdown",
      "metadata": {
        "id": "J-de7u9nmeCN"
      },
      "source": [
        "Decision Tree"
      ]
    },
    {
      "cell_type": "code",
      "metadata": {
        "id": "cl6xdI7LFD79"
      },
      "source": [
        "from sklearn.metrics import precision_score,recall_score, confusion_matrix, classification_report, accuracy_score, f1_score"
      ],
      "execution_count": null,
      "outputs": []
    },
    {
      "cell_type": "code",
      "metadata": {
        "id": "WdfFH1AIH_AY"
      },
      "source": [
        "from sklearn.metrics import accuracy_score"
      ],
      "execution_count": null,
      "outputs": []
    },
    {
      "cell_type": "code",
      "metadata": {
        "id": "Gh5z5P31ZYAN",
        "colab": {
          "base_uri": "https://localhost:8080/"
        },
        "outputId": "b33ef80e-5f73-49f5-f50f-97db2f78bb48"
      },
      "source": [
        "#fitting decision tree model on trainset\n",
        "decision_tree = DecisionTreeClassifier(random_state=10)\n",
        "decision_tree.fit(X_train_s,Y_train_s)\n"
      ],
      "execution_count": null,
      "outputs": [
        {
          "output_type": "execute_result",
          "data": {
            "text/plain": [
              "DecisionTreeClassifier(ccp_alpha=0.0, class_weight=None, criterion='gini',\n",
              "                       max_depth=None, max_features=None, max_leaf_nodes=None,\n",
              "                       min_impurity_decrease=0.0, min_impurity_split=None,\n",
              "                       min_samples_leaf=1, min_samples_split=2,\n",
              "                       min_weight_fraction_leaf=0.0, presort='deprecated',\n",
              "                       random_state=10, splitter='best')"
            ]
          },
          "metadata": {},
          "execution_count": 48
        }
      ]
    },
    {
      "cell_type": "code",
      "metadata": {
        "colab": {
          "base_uri": "https://localhost:8080/"
        },
        "id": "YdNQU20GeJUU",
        "outputId": "d8363982-42f0-430c-c5df-bd1cc9e7f221"
      },
      "source": [
        "#checking the training set\n",
        "decision_tree.score(X_train_s,Y_train_s)"
      ],
      "execution_count": null,
      "outputs": [
        {
          "output_type": "execute_result",
          "data": {
            "text/plain": [
              "0.9834834834834835"
            ]
          },
          "metadata": {},
          "execution_count": 49
        }
      ]
    },
    {
      "cell_type": "code",
      "metadata": {
        "id": "OKjXknqBmhHG"
      },
      "source": [
        "#predicting values on train_set\n",
        "y_predict = decision_tree.predict(X_eval_s)\n"
      ],
      "execution_count": null,
      "outputs": []
    },
    {
      "cell_type": "code",
      "metadata": {
        "colab": {
          "base_uri": "https://localhost:8080/"
        },
        "id": "rjL4zJMSdlfv",
        "outputId": "17e808a0-0661-42f4-a722-6e1211ec0992"
      },
      "source": [
        "#checking accuracy of train set\n",
        "acc_decision_tree = round(decision_tree.score(X_train_s, Y_train_s) * 100, 2)\n",
        "acc_decision_tree"
      ],
      "execution_count": null,
      "outputs": [
        {
          "output_type": "execute_result",
          "data": {
            "text/plain": [
              "98.35"
            ]
          },
          "metadata": {},
          "execution_count": 51
        }
      ]
    },
    {
      "cell_type": "code",
      "metadata": {
        "colab": {
          "base_uri": "https://localhost:8080/"
        },
        "id": "8pxWUiiyO2YJ",
        "outputId": "5270b22b-e26a-408f-cf6c-74d8ec00e374"
      },
      "source": [
        "#checking accuracy of evaluation set\n",
        "acc_decision_tree1 = round(decision_tree.score(X_eval_s, Y_eval_s) * 100, 2)\n",
        "acc_decision_tree1"
      ],
      "execution_count": null,
      "outputs": [
        {
          "output_type": "execute_result",
          "data": {
            "text/plain": [
              "74.44"
            ]
          },
          "metadata": {},
          "execution_count": 52
        }
      ]
    },
    {
      "cell_type": "code",
      "metadata": {
        "id": "Y5VnAOUQfXSS"
      },
      "source": [
        "#changing the max depth\n",
        "train_accuracy_max_depth= []\n",
        "validation_accuracy_max_depth= []\n",
        "for depth in range(1,10):\n",
        "  decision_tree = DecisionTreeClassifier(max_depth=depth, random_state=10)\n",
        "  decision_tree.fit(X_train_s,Y_train_s)\n",
        "  train_accuracy_max_depth.append(decision_tree.score(X_train_s,Y_train_s))\n",
        "  validation_accuracy_max_depth.append(decision_tree.score(X_eval_s,Y_eval_s))"
      ],
      "execution_count": null,
      "outputs": []
    },
    {
      "cell_type": "code",
      "metadata": {
        "colab": {
          "base_uri": "https://localhost:8080/",
          "height": 204
        },
        "id": "IYI_v7cPh_Pi",
        "outputId": "5ee081a7-92f1-4525-fc34-051fb8b60ed9"
      },
      "source": [
        "frame = pd.DataFrame({\"max_depth\" : range(1,10), \"training accuracy\":train_accuracy_max_depth, \"evaluation accuracy\":validation_accuracy_max_depth})\n",
        "frame.head()"
      ],
      "execution_count": null,
      "outputs": [
        {
          "output_type": "execute_result",
          "data": {
            "text/html": [
              "<div>\n",
              "<style scoped>\n",
              "    .dataframe tbody tr th:only-of-type {\n",
              "        vertical-align: middle;\n",
              "    }\n",
              "\n",
              "    .dataframe tbody tr th {\n",
              "        vertical-align: top;\n",
              "    }\n",
              "\n",
              "    .dataframe thead th {\n",
              "        text-align: right;\n",
              "    }\n",
              "</style>\n",
              "<table border=\"1\" class=\"dataframe\">\n",
              "  <thead>\n",
              "    <tr style=\"text-align: right;\">\n",
              "      <th></th>\n",
              "      <th>max_depth</th>\n",
              "      <th>training accuracy</th>\n",
              "      <th>evaluation accuracy</th>\n",
              "    </tr>\n",
              "  </thead>\n",
              "  <tbody>\n",
              "    <tr>\n",
              "      <th>0</th>\n",
              "      <td>1</td>\n",
              "      <td>0.792793</td>\n",
              "      <td>0.766816</td>\n",
              "    </tr>\n",
              "    <tr>\n",
              "      <th>1</th>\n",
              "      <td>2</td>\n",
              "      <td>0.792793</td>\n",
              "      <td>0.766816</td>\n",
              "    </tr>\n",
              "    <tr>\n",
              "      <th>2</th>\n",
              "      <td>3</td>\n",
              "      <td>0.828829</td>\n",
              "      <td>0.816143</td>\n",
              "    </tr>\n",
              "    <tr>\n",
              "      <th>3</th>\n",
              "      <td>4</td>\n",
              "      <td>0.833333</td>\n",
              "      <td>0.811659</td>\n",
              "    </tr>\n",
              "    <tr>\n",
              "      <th>4</th>\n",
              "      <td>5</td>\n",
              "      <td>0.849850</td>\n",
              "      <td>0.816143</td>\n",
              "    </tr>\n",
              "  </tbody>\n",
              "</table>\n",
              "</div>"
            ],
            "text/plain": [
              "   max_depth  training accuracy  evaluation accuracy\n",
              "0          1           0.792793             0.766816\n",
              "1          2           0.792793             0.766816\n",
              "2          3           0.828829             0.816143\n",
              "3          4           0.833333             0.811659\n",
              "4          5           0.849850             0.816143"
            ]
          },
          "metadata": {},
          "execution_count": 54
        }
      ]
    },
    {
      "cell_type": "code",
      "metadata": {
        "id": "P37IWNRdGjz5"
      },
      "source": [
        "max_max_depth=20"
      ],
      "execution_count": null,
      "outputs": []
    },
    {
      "cell_type": "code",
      "metadata": {
        "id": "H9IfD7K1yiWB"
      },
      "source": [
        "err_train, err_eval = [], []\n",
        "for k in range(1, max_max_depth):\n",
        "\n",
        "  decision_tree = DecisionTreeClassifier(max_depth=k, max_leaf_nodes=25, random_state=10)\n",
        "  decision_tree.fit(X_train_s,Y_train_s)\n",
        "  Y_train_pred = decision_tree.predict(X_train_s)\n",
        "  Y_eval_pred = decision_tree.predict(X_eval_s)\n",
        "  err_train.append(100*np.mean(Y_train_pred != Y_train_s))\n",
        "  err_eval.append(100*np.mean(Y_eval_pred != Y_eval_s))\n"
      ],
      "execution_count": null,
      "outputs": []
    },
    {
      "cell_type": "code",
      "metadata": {
        "colab": {
          "base_uri": "https://localhost:8080/",
          "height": 422
        },
        "id": "yCuWXnE4HP5z",
        "outputId": "b226d02d-660b-4707-bbd9-01db6db6dde2"
      },
      "source": [
        "plt.figure(figsize=(12, 6))\n",
        "plt.plot(range(1, len(err_train)+1), err_train, color='black', linestyle='dashdot', marker='o',\n",
        "         markerfacecolor='blue', markersize=6, label='train')\n",
        "plt.plot(range(1, len(err_eval)+1), err_eval, color='black', linestyle='dashdot', marker='s',\n",
        "         markerfacecolor='red', markersize=6, label='eval')\n",
        "plt.grid()\n",
        "plt.title('Error Rate vs Max_depth')\n",
        "plt.xlabel('Max_depth')\n",
        "plt.ylabel('Error %')\n",
        "plt.legend()\n",
        "\n",
        "print(f\"Min eval error is {min(err_eval):.3g}% for max_depth={np.argmin(err_eval)+1}\")"
      ],
      "execution_count": null,
      "outputs": [
        {
          "output_type": "stream",
          "name": "stdout",
          "text": [
            "Min eval error is 15.7% for max_depth=6\n"
          ]
        },
        {
          "output_type": "display_data",
          "data": {
            "image/png": "[encoded data removed]",
            "text/plain": [
              "<Figure size 864x432 with 1 Axes>"
            ]
          },
          "metadata": {
            "needs_background": "light"
          }
        }
      ]
    },
    {
      "cell_type": "code",
      "metadata": {
        "id": "P5PCcHSRHmTv"
      },
      "source": [
        "max_max_leaf=100"
      ],
      "execution_count": null,
      "outputs": []
    },
    {
      "cell_type": "code",
      "metadata": {
        "id": "hlyWYyOMHiUE"
      },
      "source": [
        "err_train, err_eval = [], []\n",
        "for k in range(2, max_max_leaf):\n",
        "\n",
        "  decision_tree = DecisionTreeClassifier(max_depth=10, max_leaf_nodes=k, random_state=10)\n",
        "  decision_tree.fit(X_train_s,Y_train_s)\n",
        "  Y_train_pred = decision_tree.predict(X_train_s)\n",
        "  Y_eval_pred = decision_tree.predict(X_eval_s)\n",
        "  err_train.append(100*np.mean(Y_train_pred != Y_train_s))\n",
        "  err_eval.append(100*np.mean(Y_eval_pred != Y_eval_s))"
      ],
      "execution_count": null,
      "outputs": []
    },
    {
      "cell_type": "code",
      "metadata": {
        "colab": {
          "base_uri": "https://localhost:8080/",
          "height": 422
        },
        "id": "HYAzEnycHlPs",
        "outputId": "30171d55-e309-47e8-de88-244e53619cc3"
      },
      "source": [
        "plt.figure(figsize=(12, 6))\n",
        "plt.plot(range(1, len(err_train)+1), err_train, color='black', linestyle='dashdot', marker='o',\n",
        "         markerfacecolor='blue', markersize=6, label='train')\n",
        "plt.plot(range(1, len(err_eval)+1), err_eval, color='black', linestyle='dashdot', marker='s',\n",
        "         markerfacecolor='red', markersize=6, label='eval')\n",
        "plt.grid()\n",
        "plt.title('Error Rate vs Max_leaf')\n",
        "plt.xlabel('Max_leaf')\n",
        "plt.ylabel('Error %')\n",
        "plt.legend()\n",
        "\n",
        "print(f\"Min eval error is {min(err_eval):.3g}% for max_leaf={np.argmin(err_eval)+1}\")"
      ],
      "execution_count": null,
      "outputs": [
        {
          "output_type": "stream",
          "name": "stdout",
          "text": [
            "Min eval error is 14.8% for max_leaf=14\n"
          ]
        },
        {
          "output_type": "display_data",
          "data": {
            "image/png": "[encoded data removed]",
            "text/plain": [
              "<Figure size 864x432 with 1 Axes>"
            ]
          },
          "metadata": {
            "needs_background": "light"
          }
        }
      ]
    },
    {
      "cell_type": "code",
      "metadata": {
        "id": "Z3voQUMbP8vY"
      },
      "source": [
        ""
      ],
      "execution_count": null,
      "outputs": []
    },
    {
      "cell_type": "code",
      "metadata": {
        "colab": {
          "base_uri": "https://localhost:8080/"
        },
        "id": "Rc5PRm2J0BEL",
        "outputId": "40f8d939-5a49-4541-e383-c300c13a400e"
      },
      "source": [
        "#checking accuracy of train set\n",
        "acc_decision_tree1 = round(decision_tree.score(X_train_s, Y_train_s) * 100, 2)\n",
        "acc_decision_tree1"
      ],
      "execution_count": null,
      "outputs": [
        {
          "output_type": "execute_result",
          "data": {
            "text/plain": [
              "93.09"
            ]
          },
          "metadata": {},
          "execution_count": 92
        }
      ]
    },
    {
      "cell_type": "code",
      "metadata": {
        "colab": {
          "base_uri": "https://localhost:8080/"
        },
        "id": "wpHygQ6w0Qk7",
        "outputId": "335a05fb-b16c-44f9-ddd9-5159f3431740"
      },
      "source": [
        "#checking accuracy of evaluation set\n",
        "acc_decision_tree1 = round(decision_tree.score(X_eval_s, Y_eval_s) * 100, 2)\n",
        "acc_decision_tree1"
      ],
      "execution_count": null,
      "outputs": [
        {
          "output_type": "execute_result",
          "data": {
            "text/plain": [
              "77.58"
            ]
          },
          "metadata": {},
          "execution_count": 93
        }
      ]
    },
    {
      "cell_type": "code",
      "metadata": {
        "colab": {
          "base_uri": "https://localhost:8080/"
        },
        "id": "uv95uThsQItx",
        "outputId": "ffbb9bee-316f-41ee-b88d-2f7d84d22f97"
      },
      "source": [
        "path=decision_tree.cost_complexity_pruning_path(X_train_s,Y_train_s)\n",
        "#path variable gives two things ccp_alphas and impurities\n",
        "ccp_alphas,impurities=path.ccp_alphas,path.impurities\n",
        "print(\"ccp alpha wil give list of values :\",ccp_alphas)\n",
        "print(\"***********************************************************\")\n",
        "print(\"Impurities in Decision Tree :\",impurities)"
      ],
      "execution_count": null,
      "outputs": [
        {
          "output_type": "stream",
          "name": "stdout",
          "text": [
            "ccp alpha wil give list of values : [0.         0.00025025 0.00049118 0.0005005  0.0005005  0.0005148\n",
            " 0.00057398 0.000728   0.00075075 0.00087588 0.000988   0.0009957\n",
            " 0.001001   0.001001   0.00101005 0.00124245 0.00128276 0.001287\n",
            " 0.00131381 0.00131541 0.00133589 0.001386   0.00140766 0.00142248\n",
            " 0.00148389 0.00174368 0.0018018  0.002002   0.00225225 0.00225225\n",
            " 0.0024024  0.0024841  0.00253825 0.00266934 0.00268126 0.0027027\n",
            " 0.00289142 0.00320014 0.00371085 0.00376229 0.00391715 0.00463017\n",
            " 0.00547449 0.00942119 0.01391763 0.03179888 0.14312916]\n",
            "***********************************************************\n",
            "Impurities in Decision Tree : [0.09903103 0.09928129 0.09977246 0.10027296 0.10077346 0.10128826\n",
            " 0.10186225 0.10259025 0.103341   0.10509275 0.10805675 0.11104387\n",
            " 0.11404687 0.11604887 0.11907903 0.1252913  0.12913959 0.1304266\n",
            " 0.13305422 0.13700044 0.13833634 0.14110834 0.14392366 0.14676861\n",
            " 0.15270417 0.15444785 0.15805145 0.16005346 0.16230571 0.16455796\n",
            " 0.16696036 0.16944446 0.17452097 0.17719031 0.1986404  0.2013431\n",
            " 0.20423452 0.21703508 0.23187849 0.23564078 0.24739223 0.2520224\n",
            " 0.2574969  0.26691808 0.29475335 0.32655224 0.46968139]\n"
          ]
        }
      ]
    },
    {
      "cell_type": "code",
      "metadata": {
        "colab": {
          "base_uri": "https://localhost:8080/"
        },
        "id": "NC7i_g00QoYs",
        "outputId": "901c8b73-3037-4de0-b40c-b44981abe089"
      },
      "source": [
        "clfs=[]   #will store all the models here\n",
        "for ccp_alpha in ccp_alphas:\n",
        "    clf=DecisionTreeClassifier(random_state=0,ccp_alpha=ccp_alpha)\n",
        "    clf.fit(X_train_s,Y_train_s)\n",
        "    clfs.append(clf)\n",
        "print(\"Last node in Decision tree is {} and ccp_alpha for last node is {}\".format(clfs[-1].tree_.node_count,ccp_alphas[-1]))\n"
      ],
      "execution_count": null,
      "outputs": [
        {
          "output_type": "stream",
          "name": "stdout",
          "text": [
            "Last node in Decision tree is 1 and ccp_alpha for last node is 0.14312915774903273\n"
          ]
        }
      ]
    },
    {
      "cell_type": "code",
      "metadata": {
        "colab": {
          "base_uri": "https://localhost:8080/",
          "height": 295
        },
        "id": "B-4aSVwyQ3Vj",
        "outputId": "92907865-0d7f-4161-cdbc-ed261409984f"
      },
      "source": [
        "train_scores = [clf.score(X_train_s,Y_train_s) for clf in clfs]\n",
        "test_scores = [clf.score(X_eval_s,Y_eval_s) for clf in clfs]\n",
        "fig, ax = plt.subplots()\n",
        "ax.set_xlabel(\"alpha\")\n",
        "ax.set_ylabel(\"accuracy\")\n",
        "ax.set_title(\"Accuracy vs alpha for training and testing sets\")\n",
        "ax.plot(ccp_alphas, train_scores, marker='o', label=\"train\",drawstyle=\"steps-post\")\n",
        "ax.plot(ccp_alphas, test_scores, marker='o', label=\"test\",drawstyle=\"steps-post\")\n",
        "ax.legend()\n",
        "plt.show()"
      ],
      "execution_count": null,
      "outputs": [
        {
          "output_type": "display_data",
          "data": {
            "image/png": "[encoded data removed]",
            "text/plain": [
              "<Figure size 432x288 with 1 Axes>"
            ]
          },
          "metadata": {
            "needs_background": "light"
          }
        }
      ]
    },
    {
      "cell_type": "code",
      "metadata": {
        "colab": {
          "base_uri": "https://localhost:8080/",
          "height": 466
        },
        "id": "fzkmDh8tSRnf",
        "outputId": "79aa2e49-fc15-44c3-ab61-ce4419376013"
      },
      "source": [
        "clf=DecisionTreeClassifier(random_state=0,ccp_alpha=0.02)\n",
        "clf.fit(X_train_s,Y_train_s)\n",
        "plt.figure(figsize=(12,8))\n",
        "tree.plot_tree(clf,rounded=True,filled=True)\n",
        "plt.show()"
      ],
      "execution_count": null,
      "outputs": [
        {
          "output_type": "display_data",
          "data": {
            "image/png": "[encoded data removed]",
            "text/plain": [
              "<Figure size 864x576 with 1 Axes>"
            ]
          },
          "metadata": {
            "needs_background": "light"
          }
        }
      ]
    },
    {
      "cell_type": "code",
      "metadata": {
        "colab": {
          "base_uri": "https://localhost:8080/"
        },
        "id": "FoUFBSeQSvV7",
        "outputId": "68571985-822b-4637-fee8-633fc86bffeb"
      },
      "source": [
        "accuracy_score(Y_train_s,clf.predict(X_train_s))\n"
      ],
      "execution_count": null,
      "outputs": [
        {
          "output_type": "execute_result",
          "data": {
            "text/plain": [
              "0.7927927927927928"
            ]
          },
          "metadata": {},
          "execution_count": 109
        }
      ]
    },
    {
      "cell_type": "markdown",
      "metadata": {
        "id": "BqzYxtisOjUw"
      },
      "source": [
        "Visualise of a tree"
      ]
    },
    {
      "cell_type": "code",
      "metadata": {
        "id": "A8fKZPDaOh6k"
      },
      "source": [
        "#import libraries\n",
        "from IPython.display import Image\n",
        "from sklearn.externals.six import StringIO\n",
        "from sklearn.tree import export_graphviz\n",
        "\n",
        "features = list(train_set.columns)\n",
        "features.remove(\"Survived\")\n"
      ],
      "execution_count": null,
      "outputs": []
    },
    {
      "cell_type": "code",
      "metadata": {
        "id": "v8CMD60LPMmZ"
      },
      "source": [
        "dot_data = StringIO()\n",
        "from pydotplus import graph_from_dot_data\n",
        "\n",
        "import pydotplus"
      ],
      "execution_count": null,
      "outputs": []
    },
    {
      "cell_type": "code",
      "metadata": {
        "colab": {
          "base_uri": "https://localhost:8080/",
          "height": 492
        },
        "id": "ZhYdwjDdP4Ct",
        "outputId": "9b368948-6f26-4212-aff0-fdde0d2be6c6"
      },
      "source": [
        "export_graphviz(decision_tree, out_file=dot_data, feature_names=features, max_depth=2, filled=True)\n",
        "graph = pydotplus.graphviz.graph_from_dot_data(dot_data.getvalue())\n",
        "Image(graph[0].create_png())"
      ],
      "execution_count": null,
      "outputs": [
        {
          "output_type": "execute_result",
          "data": {
            "image/png": "[encoded data removed]",
            "text/plain": [
              "<IPython.core.display.Image object>"
            ]
          },
          "metadata": {},
          "execution_count": 61
        }
      ]
    },
    {
      "cell_type": "code",
      "metadata": {
        "colab": {
          "base_uri": "https://localhost:8080/"
        },
        "id": "d-64u8ZoB8gE",
        "outputId": "9a5d1c82-f756-4d80-d554-c4643537486c"
      },
      "source": [
        "X_eval_s.shape"
      ],
      "execution_count": null,
      "outputs": [
        {
          "output_type": "execute_result",
          "data": {
            "text/plain": [
              "(223, 7)"
            ]
          },
          "metadata": {},
          "execution_count": 159
        }
      ]
    },
    {
      "cell_type": "code",
      "metadata": {
        "colab": {
          "base_uri": "https://localhost:8080/"
        },
        "id": "3NydC0nrCFxB",
        "outputId": "139f2825-1717-4dd9-ab2b-e189371d78ff"
      },
      "source": [
        "test.shape"
      ],
      "execution_count": null,
      "outputs": [
        {
          "output_type": "execute_result",
          "data": {
            "text/plain": [
              "(417, 8)"
            ]
          },
          "metadata": {},
          "execution_count": 165
        }
      ]
    },
    {
      "cell_type": "code",
      "metadata": {
        "id": "HIeIfIfAUHNE"
      },
      "source": [
        "surv_pred=decision_tree.predict(test_drop)"
      ],
      "execution_count": null,
      "outputs": []
    },
    {
      "cell_type": "code",
      "metadata": {
        "id": "JTXWzT3oGr8A"
      },
      "source": [
        "surv_pred_df=pd.DataFrame(surv_pred)"
      ],
      "execution_count": null,
      "outputs": []
    },
    {
      "cell_type": "code",
      "metadata": {
        "colab": {
          "base_uri": "https://localhost:8080/",
          "height": 419
        },
        "id": "y6BvFTeLLIED",
        "outputId": "8aec6e4d-9bd0-4b03-b0a1-cd4c821c0b1e"
      },
      "source": [
        "surv_pred_df"
      ],
      "execution_count": null,
      "outputs": [
        {
          "output_type": "execute_result",
          "data": {
            "text/html": [
              "<div>\n",
              "<style scoped>\n",
              "    .dataframe tbody tr th:only-of-type {\n",
              "        vertical-align: middle;\n",
              "    }\n",
              "\n",
              "    .dataframe tbody tr th {\n",
              "        vertical-align: top;\n",
              "    }\n",
              "\n",
              "    .dataframe thead th {\n",
              "        text-align: right;\n",
              "    }\n",
              "</style>\n",
              "<table border=\"1\" class=\"dataframe\">\n",
              "  <thead>\n",
              "    <tr style=\"text-align: right;\">\n",
              "      <th></th>\n",
              "      <th>0</th>\n",
              "    </tr>\n",
              "  </thead>\n",
              "  <tbody>\n",
              "    <tr>\n",
              "      <th>0</th>\n",
              "      <td>0</td>\n",
              "    </tr>\n",
              "    <tr>\n",
              "      <th>1</th>\n",
              "      <td>1</td>\n",
              "    </tr>\n",
              "    <tr>\n",
              "      <th>2</th>\n",
              "      <td>0</td>\n",
              "    </tr>\n",
              "    <tr>\n",
              "      <th>3</th>\n",
              "      <td>0</td>\n",
              "    </tr>\n",
              "    <tr>\n",
              "      <th>4</th>\n",
              "      <td>0</td>\n",
              "    </tr>\n",
              "    <tr>\n",
              "      <th>...</th>\n",
              "      <td>...</td>\n",
              "    </tr>\n",
              "    <tr>\n",
              "      <th>412</th>\n",
              "      <td>0</td>\n",
              "    </tr>\n",
              "    <tr>\n",
              "      <th>413</th>\n",
              "      <td>1</td>\n",
              "    </tr>\n",
              "    <tr>\n",
              "      <th>414</th>\n",
              "      <td>0</td>\n",
              "    </tr>\n",
              "    <tr>\n",
              "      <th>415</th>\n",
              "      <td>0</td>\n",
              "    </tr>\n",
              "    <tr>\n",
              "      <th>416</th>\n",
              "      <td>0</td>\n",
              "    </tr>\n",
              "  </tbody>\n",
              "</table>\n",
              "<p>417 rows × 1 columns</p>\n",
              "</div>"
            ],
            "text/plain": [
              "     0\n",
              "0    0\n",
              "1    1\n",
              "2    0\n",
              "3    0\n",
              "4    0\n",
              "..  ..\n",
              "412  0\n",
              "413  1\n",
              "414  0\n",
              "415  0\n",
              "416  0\n",
              "\n",
              "[417 rows x 1 columns]"
            ]
          },
          "metadata": {},
          "execution_count": 192
        }
      ]
    },
    {
      "cell_type": "code",
      "metadata": {
        "colab": {
          "base_uri": "https://localhost:8080/"
        },
        "id": "zKMp3xIdGM3B",
        "outputId": "16e81fb7-fb62-48bb-8ea4-b94e5f0e492d"
      },
      "source": [
        "surv_pred.shape"
      ],
      "execution_count": null,
      "outputs": [
        {
          "output_type": "execute_result",
          "data": {
            "text/plain": [
              "(417,)"
            ]
          },
          "metadata": {},
          "execution_count": 188
        }
      ]
    },
    {
      "cell_type": "code",
      "metadata": {
        "colab": {
          "base_uri": "https://localhost:8080/"
        },
        "id": "WlNjLLCBBAwu",
        "outputId": "773b5af3-6f18-4157-d170-4cbe48e3e70f"
      },
      "source": [
        "test_with_pas.shape"
      ],
      "execution_count": null,
      "outputs": [
        {
          "output_type": "execute_result",
          "data": {
            "text/plain": [
              "(418, 1)"
            ]
          },
          "metadata": {},
          "execution_count": 189
        }
      ]
    },
    {
      "cell_type": "code",
      "metadata": {
        "id": "nNu_uJQ0Uovs"
      },
      "source": [
        "test=pd.read_csv(\"/content/drive/MyDrive/new/Archives/test.csv\")"
      ],
      "execution_count": null,
      "outputs": []
    },
    {
      "cell_type": "code",
      "metadata": {
        "colab": {
          "base_uri": "https://localhost:8080/",
          "height": 419
        },
        "id": "TPEEQyg9LyBd",
        "outputId": "b20be141-d492-46f0-a6dd-59814c9b436e"
      },
      "source": [
        "test_with_pas"
      ],
      "execution_count": null,
      "outputs": [
        {
          "output_type": "execute_result",
          "data": {
            "text/html": [
              "<div>\n",
              "<style scoped>\n",
              "    .dataframe tbody tr th:only-of-type {\n",
              "        vertical-align: middle;\n",
              "    }\n",
              "\n",
              "    .dataframe tbody tr th {\n",
              "        vertical-align: top;\n",
              "    }\n",
              "\n",
              "    .dataframe thead th {\n",
              "        text-align: right;\n",
              "    }\n",
              "</style>\n",
              "<table border=\"1\" class=\"dataframe\">\n",
              "  <thead>\n",
              "    <tr style=\"text-align: right;\">\n",
              "      <th></th>\n",
              "      <th>PassengerId</th>\n",
              "    </tr>\n",
              "  </thead>\n",
              "  <tbody>\n",
              "    <tr>\n",
              "      <th>0</th>\n",
              "      <td>NaN</td>\n",
              "    </tr>\n",
              "    <tr>\n",
              "      <th>1</th>\n",
              "      <td>NaN</td>\n",
              "    </tr>\n",
              "    <tr>\n",
              "      <th>2</th>\n",
              "      <td>NaN</td>\n",
              "    </tr>\n",
              "    <tr>\n",
              "      <th>3</th>\n",
              "      <td>NaN</td>\n",
              "    </tr>\n",
              "    <tr>\n",
              "      <th>4</th>\n",
              "      <td>NaN</td>\n",
              "    </tr>\n",
              "    <tr>\n",
              "      <th>...</th>\n",
              "      <td>...</td>\n",
              "    </tr>\n",
              "    <tr>\n",
              "      <th>413</th>\n",
              "      <td>NaN</td>\n",
              "    </tr>\n",
              "    <tr>\n",
              "      <th>414</th>\n",
              "      <td>NaN</td>\n",
              "    </tr>\n",
              "    <tr>\n",
              "      <th>415</th>\n",
              "      <td>NaN</td>\n",
              "    </tr>\n",
              "    <tr>\n",
              "      <th>416</th>\n",
              "      <td>NaN</td>\n",
              "    </tr>\n",
              "    <tr>\n",
              "      <th>417</th>\n",
              "      <td>NaN</td>\n",
              "    </tr>\n",
              "  </tbody>\n",
              "</table>\n",
              "<p>418 rows × 1 columns</p>\n",
              "</div>"
            ],
            "text/plain": [
              "     PassengerId\n",
              "0            NaN\n",
              "1            NaN\n",
              "2            NaN\n",
              "3            NaN\n",
              "4            NaN\n",
              "..           ...\n",
              "413          NaN\n",
              "414          NaN\n",
              "415          NaN\n",
              "416          NaN\n",
              "417          NaN\n",
              "\n",
              "[418 rows x 1 columns]"
            ]
          },
          "metadata": {},
          "execution_count": 197
        }
      ]
    },
    {
      "cell_type": "code",
      "metadata": {
        "colab": {
          "base_uri": "https://localhost:8080/"
        },
        "id": "ikPJf8BEUe3i",
        "outputId": "7d3fa169-ed17-4a6f-a3c2-72cddf552f4e"
      },
      "source": [
        "submit= test_with_pas\n",
        "\n",
        "submit.iloc[:418, :]=surv_pred_df\n",
        "\n",
        "submit.to_csv(\"/content/drive/MyDrive/new/results4.csv\", index=False)"
      ],
      "execution_count": null,
      "outputs": [
        {
          "output_type": "stream",
          "name": "stderr",
          "text": [
            "/usr/local/lib/python3.7/dist-packages/pandas/core/indexing.py:670: SettingWithCopyWarning: \n",
            "A value is trying to be set on a copy of a slice from a DataFrame\n",
            "\n",
            "See the caveats in the documentation: https://pandas.pydata.org/pandas-docs/stable/user_guide/indexing.html#returning-a-view-versus-a-copy\n",
            "  iloc._setitem_with_indexer(indexer, value)\n",
            "/usr/local/lib/python3.7/dist-packages/ipykernel_launcher.py:3: SettingWithCopyWarning: \n",
            "A value is trying to be set on a copy of a slice from a DataFrame\n",
            "\n",
            "See the caveats in the documentation: https://pandas.pydata.org/pandas-docs/stable/user_guide/indexing.html#returning-a-view-versus-a-copy\n",
            "  This is separate from the ipykernel package so we can avoid doing imports until\n"
          ]
        }
      ]
    },
    {
      "cell_type": "markdown",
      "metadata": {
        "id": "82p4C6qLSn7L"
      },
      "source": [
        "**Random Forest**"
      ]
    },
    {
      "cell_type": "code",
      "metadata": {
        "id": "uifwHDiTIPVn"
      },
      "source": [
        "max_n_estim=200"
      ],
      "execution_count": null,
      "outputs": []
    },
    {
      "cell_type": "code",
      "metadata": {
        "id": "NmqBxeyhShbm"
      },
      "source": [
        "from sklearn.ensemble import RandomForestClassifier\n",
        "err_train, err_eval = [], []\n",
        "for k in range(1, max_n_estim):\n",
        "  random_forest = RandomForestClassifier(n_estimators=100)\n",
        "  random_forest.fit(X_train_s,Y_train_s)\n",
        "\n",
        "  Y_train_pred = decision_tree.predict(X_train_s)\n",
        "  Y_eval_pred = decision_tree.predict(X_eval_s)\n",
        "\n",
        "  err_train.append(100*np.mean(Y_train_pred != Y_train_s))\n",
        "  err_eval.append(100*np.mean(Y_eval_pred != Y_eval_s))\n",
        "  \n",
        "  #Y_pred = random_forest.predict(X_eval_s)\n",
        "  #random_forest.score(X_train_s, Y_train_s)\n",
        "  #acc_random_forest = round(random_forest.score(X_train_s, Y_train_s) * 100, 2)\n",
        "  #acc_random_forest\n"
      ],
      "execution_count": null,
      "outputs": []
    },
    {
      "cell_type": "code",
      "metadata": {
        "colab": {
          "base_uri": "https://localhost:8080/",
          "height": 421
        },
        "id": "T_duo7aHIy3K",
        "outputId": "3208d65c-ebe2-4530-ecbd-9b12a7e534fc"
      },
      "source": [
        "plt.figure(figsize=(12, 6))\n",
        "plt.plot(range(1, len(err_train)+1), err_train, color='black', linestyle='dashdot', marker='o',\n",
        "         markerfacecolor='blue', markersize=6, label='train')\n",
        "plt.plot(range(1, len(err_eval)+1), err_eval, color='black', linestyle='dashdot', marker='s',\n",
        "         markerfacecolor='red', markersize=6, label='eval')\n",
        "plt.grid()\n",
        "plt.title('Error Rate vs n_components')\n",
        "plt.xlabel('n_components')\n",
        "plt.ylabel('Error %')\n",
        "plt.legend()\n",
        "\n",
        "print(f\"Min eval error is {min(err_eval):.3g}% for max_leaf={np.argmin(err_eval)+1}\")"
      ],
      "execution_count": null,
      "outputs": [
        {
          "output_type": "stream",
          "name": "stdout",
          "text": [
            "Min eval error is 22.4% for max_leaf=1\n"
          ]
        },
        {
          "output_type": "display_data",
          "data": {
            "image/png": "[encoded data removed]",
            "text/plain": [
              "<Figure size 864x432 with 1 Axes>"
            ]
          },
          "metadata": {
            "needs_background": "light"
          }
        }
      ]
    },
    {
      "cell_type": "code",
      "metadata": {
        "colab": {
          "base_uri": "https://localhost:8080/"
        },
        "id": "p4TIMH-NdIvT",
        "outputId": "6f267281-e676-4692-a87d-1f70802a7d5c"
      },
      "source": [
        "acc_random_forest1 = round(random_forest.score(X_eval_s, Y_eval_s) * 100, 2)\n",
        "acc_random_forest1"
      ],
      "execution_count": null,
      "outputs": [
        {
          "output_type": "execute_result",
          "data": {
            "text/plain": [
              "77.58"
            ]
          },
          "metadata": {},
          "execution_count": 63
        }
      ]
    },
    {
      "cell_type": "code",
      "metadata": {
        "id": "0TTNE5lZTCfH"
      },
      "source": [
        "##print_score(random_forest, X_train_s, Y_train_s, X_eval_s, Y_eval_s, train_set=True)\n",
        "##print_score(random_forest, X_train_s, Y_train_s, X_eval_s, Y_eval_s, train_set=False)"
      ],
      "execution_count": null,
      "outputs": []
    },
    {
      "cell_type": "code",
      "metadata": {
        "colab": {
          "base_uri": "https://localhost:8080/",
          "height": 282
        },
        "id": "vxRmtON9qZMi",
        "outputId": "4dc4ff0d-608f-4bdf-9f34-9fbb72c4e35c"
      },
      "source": [
        "#Get important feqtures from random_forest\n",
        "plt.barh(X_train.columns.values, random_forest.feature_importances_)"
      ],
      "execution_count": null,
      "outputs": [
        {
          "output_type": "execute_result",
          "data": {
            "text/plain": [
              "<BarContainer object of 7 artists>"
            ]
          },
          "metadata": {},
          "execution_count": 65
        },
        {
          "output_type": "display_data",
          "data": {
            "image/png": "[encoded data removed]",
            "text/plain": [
              "<Figure size 432x288 with 1 Axes>"
            ]
          },
          "metadata": {
            "needs_background": "light"
          }
        }
      ]
    },
    {
      "cell_type": "code",
      "metadata": {
        "colab": {
          "base_uri": "https://localhost:8080/"
        },
        "id": "kGOTee0Pj2Np",
        "outputId": "715fee3b-7f2f-45f7-970b-8d92d0f4f507"
      },
      "source": [
        "#Apply Naiive Bayes Model\n",
        "from sklearn.naive_bayes import GaussianNB\n",
        "\n",
        "nb = GaussianNB()\n",
        "nb.fit(X_train_s, Y_train_s)"
      ],
      "execution_count": null,
      "outputs": [
        {
          "output_type": "execute_result",
          "data": {
            "text/plain": [
              "GaussianNB(priors=None, var_smoothing=1e-09)"
            ]
          },
          "metadata": {},
          "execution_count": 66
        }
      ]
    },
    {
      "cell_type": "code",
      "metadata": {
        "id": "rZQNowPTk7FO"
      },
      "source": [
        "print('Accuracy of Naiive Bayes Model is :' , round(nb.score(X_eval_s,Y_eval_s),2))"
      ],
      "execution_count": null,
      "outputs": []
    },
    {
      "cell_type": "code",
      "metadata": {
        "id": "Wlu-2Fpcrhm6"
      },
      "source": [
        "#split data again but with nly important features extracted by RF\n",
        "X_train_features_imp= train_data.iloc[:,[2,3,6]]\n",
        "Y_train_features_imp= pd.DataFrame(data=train_data, columns=[train_data.columns[0]])\n",
        "\n",
        "X_eval_features_imp= eval_data.iloc[:,[2,3,6]]\n",
        "Y_eval_features_imp= pd.DataFrame(data=eval_data, columns=[eval_data.columns[0]])\n"
      ],
      "execution_count": null,
      "outputs": []
    },
    {
      "cell_type": "code",
      "metadata": {
        "id": "lF-EkOCcsJv1"
      },
      "source": [
        "#Apply Naiive Bayes Model with feature importance\n",
        "\n",
        "nb_features_imp = GaussianNB()\n",
        "nb_features_imp.fit(X_train_features_imp, Y_train_features_imp)"
      ],
      "execution_count": null,
      "outputs": []
    },
    {
      "cell_type": "code",
      "metadata": {
        "id": "0AXpH5MzsJ6K"
      },
      "source": [
        "print('Accuracy of Naiive Bayes Model with feature importance is :' , round(nb_features_imp.score(X_eval_features_imp,Y_eval_features_imp),2))"
      ],
      "execution_count": null,
      "outputs": []
    }
  ]
}